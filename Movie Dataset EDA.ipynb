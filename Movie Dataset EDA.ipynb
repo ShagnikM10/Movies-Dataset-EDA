{
 "cells": [
  {
   "cell_type": "code",
   "execution_count": null,
   "id": "9ff1aa59",
   "metadata": {},
   "outputs": [],
   "source": [
    "# Importing all necessary libraries\n",
    "import numpy as np\n",
    "import pandas as pd\n",
    "import matplotlib.pyplot as plt\n",
    "import seaborn as sns\n",
    "%matplotlib inline\n",
    "from matplotlib.pyplot import figure\n",
    "plt.rcParams['figure.figsize'] = (12,8)\n",
    "plt.style.use('ggplot')"
   ]
  },
  {
   "cell_type": "code",
   "execution_count": null,
   "id": "cc7756b6",
   "metadata": {},
   "outputs": [],
   "source": [
    "# Reading the data\n",
    "movies = pd.read_csv(r'movies.csv')"
   ]
  },
  {
   "cell_type": "code",
   "execution_count": null,
   "id": "096e8195",
   "metadata": {},
   "outputs": [],
   "source": [
    "movies.head()"
   ]
  },
  {
   "cell_type": "code",
   "execution_count": null,
   "id": "3bf7826e",
   "metadata": {},
   "outputs": [],
   "source": [
    "# Missing Value Treatment\n",
    "for col in movies.columns:\n",
    "    missing_pct = np.mean(movies[col].isnull())\n",
    "    print('{} - {}%'.format(col,missing_pct))"
   ]
  },
  {
   "cell_type": "code",
   "execution_count": null,
   "id": "6e913a12",
   "metadata": {},
   "outputs": [],
   "source": [
    "# So as we can see we do not really have any missing values in this dataset"
   ]
  },
  {
   "cell_type": "code",
   "execution_count": null,
   "id": "7f9950df",
   "metadata": {},
   "outputs": [],
   "source": [
    "movies.dtypes"
   ]
  },
  {
   "cell_type": "code",
   "execution_count": null,
   "id": "81055ed3",
   "metadata": {},
   "outputs": [],
   "source": [
    "# Converting the budget to 'int64' values\n",
    "movies['budget'] = movies['budget'].fillna(0).round().astype('int64')"
   ]
  },
  {
   "cell_type": "code",
   "execution_count": null,
   "id": "2fca1f07",
   "metadata": {},
   "outputs": [],
   "source": [
    "movies.head()"
   ]
  },
  {
   "cell_type": "code",
   "execution_count": null,
   "id": "ef7c9536",
   "metadata": {},
   "outputs": [],
   "source": [
    "# Converting the 'gross' column into int64 values\n",
    "movies['gross'] = movies['gross'].fillna(0).round().astype('int64')"
   ]
  },
  {
   "cell_type": "code",
   "execution_count": null,
   "id": "444c8e8c",
   "metadata": {},
   "outputs": [],
   "source": [
    "movies.head()"
   ]
  },
  {
   "cell_type": "code",
   "execution_count": null,
   "id": "10fbc598",
   "metadata": {},
   "outputs": [],
   "source": [
    "movies.head()"
   ]
  },
  {
   "cell_type": "code",
   "execution_count": null,
   "id": "619fa54d",
   "metadata": {},
   "outputs": [],
   "source": [
    "# Sorting the revenue generated in Descending Order\n",
    "movies.sort_values(by=['gross'], inplace=False, ascending=False)"
   ]
  },
  {
   "cell_type": "code",
   "execution_count": null,
   "id": "eaa134c6",
   "metadata": {},
   "outputs": [],
   "source": [
    "pd.set_option('display.max_rows', None)"
   ]
  },
  {
   "cell_type": "code",
   "execution_count": null,
   "id": "6620d5c0",
   "metadata": {},
   "outputs": [],
   "source": [
    "# Dropping any duplicates\n",
    "movies['company'].sort_values(ascending=False)\n",
    "movies.drop_duplicates()"
   ]
  },
  {
   "cell_type": "code",
   "execution_count": null,
   "id": "6995949d",
   "metadata": {},
   "outputs": [],
   "source": [
    "movies['company'].sort_values(ascending=False)"
   ]
  },
  {
   "cell_type": "code",
   "execution_count": null,
   "id": "22bf221b",
   "metadata": {},
   "outputs": [],
   "source": [
    "# Assumptions for high revenue\n",
    "# More the spend or budget on a movie more would be the revenue generated\n",
    "# The more revered the company the more revenue is its films going to generate"
   ]
  },
  {
   "cell_type": "code",
   "execution_count": null,
   "id": "b29a93d1",
   "metadata": {},
   "outputs": [],
   "source": [
    "# Scatter to plot to check the correlation between Budget and Gross\n",
    "plt.scatter(x=movies['budget'], y=movies['gross'])\n",
    "plt.title('Budget vs Gross Correlation')\n",
    "plt.xlabel('Gross Earnings')\n",
    "plt.ylabel('Budget for the film')\n",
    "plt.show()"
   ]
  },
  {
   "cell_type": "code",
   "execution_count": null,
   "id": "46bd5b7e",
   "metadata": {},
   "outputs": [],
   "source": [
    "# We could reconfirm the same using a regplot\n",
    "sns.regplot(x = 'budget', y = 'gross', data = movies, scatter_kws = {'color':'red'}, line_kws = {'color':'black'}) \n",
    "plt.title('Budget vs Gross Correlation')\n",
    "plt.xlabel('Gross Earnings')\n",
    "plt.ylabel('Budget for the film')\n",
    "plt.show()"
   ]
  },
  {
   "cell_type": "code",
   "execution_count": null,
   "id": "3bfe6efd",
   "metadata": {},
   "outputs": [],
   "source": [
    "# Plotting the correlation\n",
    "movies.corr(method='pearson')\n",
    "# Types of correlation - pearson, kendall, spearman"
   ]
  },
  {
   "cell_type": "code",
   "execution_count": null,
   "id": "cd7b05ba",
   "metadata": {},
   "outputs": [],
   "source": [
    "# So it is claerly evident that there is high correlation between Budget and Gross"
   ]
  },
  {
   "cell_type": "code",
   "execution_count": null,
   "id": "5eaa65a6",
   "metadata": {},
   "outputs": [],
   "source": [
    "corrmat = movies.corr(method='pearson')\n",
    "sns.heatmap(corrmat,annot=True)\n",
    "plt.title('Correlation Matrix of Numerical Features')\n",
    "plt.xlabel('Movie dataset features')\n",
    "plt.ylabel('Movie dataset features')\n",
    "plt.show()"
   ]
  },
  {
   "cell_type": "code",
   "execution_count": null,
   "id": "3d7ec119",
   "metadata": {},
   "outputs": [],
   "source": [
    "# Now lets convert the 'categorical' features to numeric values\n",
    "movies_numeric = movies\n",
    "\n",
    "for col_name in movies_numeric.columns:\n",
    "    if(movies_numeric[col_name].dtype=='object'):\n",
    "        movies_numeric[col_name] = movies_numeric[col_name].astype('category')\n",
    "        movies_numeric[col_name] = movies_numeric[col_name].cat.codes\n",
    "movies_numeric"
   ]
  },
  {
   "cell_type": "code",
   "execution_count": null,
   "id": "a96b0a24",
   "metadata": {},
   "outputs": [],
   "source": [
    "movies"
   ]
  },
  {
   "cell_type": "code",
   "execution_count": null,
   "id": "97683ba5",
   "metadata": {},
   "outputs": [],
   "source": [
    "corrmat_categoric = movies_numeric.corr(method='pearson')\n",
    "sns.heatmap(corrmat_categoric,annot=True)\n",
    "plt.title('Correlation Matrix of Categorical Features')\n",
    "plt.xlabel('Movie dataset features')\n",
    "plt.ylabel('Movie dataset features')\n",
    "plt.show()"
   ]
  },
  {
   "cell_type": "code",
   "execution_count": null,
   "id": "61058362",
   "metadata": {},
   "outputs": [],
   "source": [
    "# Checking all the pairs with high correlation\n",
    "correlation_mat = movies_numeric.corr()\n",
    "corr_pairs = correlation_mat.unstack()\n",
    "corr_pairs"
   ]
  },
  {
   "cell_type": "code",
   "execution_count": null,
   "id": "19c27ccc",
   "metadata": {},
   "outputs": [],
   "source": [
    "sorted_pairs = corr_pairs.sort_values()\n",
    "sorted_pairs"
   ]
  },
  {
   "cell_type": "code",
   "execution_count": null,
   "id": "ee4756d9",
   "metadata": {},
   "outputs": [],
   "source": [
    "high_corr = sorted_pairs[(sorted_pairs)>0.5]\n",
    "high_corr"
   ]
  },
  {
   "cell_type": "code",
   "execution_count": null,
   "id": "a6667c22",
   "metadata": {},
   "outputs": [],
   "source": [
    "# So we can see Budget and Gross have high correlations as we stated earlier"
   ]
  }
 ],
 "metadata": {
  "kernelspec": {
   "display_name": "Python 3 (ipykernel)",
   "language": "python",
   "name": "python3"
  },
  "language_info": {
   "codemirror_mode": {
    "name": "ipython",
    "version": 3
   },
   "file_extension": ".py",
   "mimetype": "text/x-python",
   "name": "python",
   "nbconvert_exporter": "python",
   "pygments_lexer": "ipython3",
   "version": "3.9.12"
  }
 },
 "nbformat": 4,
 "nbformat_minor": 5
}
